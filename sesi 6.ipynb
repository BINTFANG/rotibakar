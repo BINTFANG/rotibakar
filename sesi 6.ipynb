{
  "nbformat": 4,
  "nbformat_minor": 0,
  "metadata": {
    "colab": {
      "provenance": [],
      "authorship_tag": "ABX9TyPebMTUwfOitrj3U2alhyj1",
      "include_colab_link": true
    },
    "kernelspec": {
      "name": "python3",
      "display_name": "Python 3"
    },
    "language_info": {
      "name": "python"
    }
  },
  "cells": [
    {
      "cell_type": "markdown",
      "metadata": {
        "id": "view-in-github",
        "colab_type": "text"
      },
      "source": [
        "<a href=\"https://colab.research.google.com/github/BINTFANG/rotibakar/blob/main/sesi%206.ipynb\" target=\"_parent\"><img src=\"https://colab.research.google.com/assets/colab-badge.svg\" alt=\"Open In Colab\"/></a>"
      ]
    },
    {
      "cell_type": "code",
      "execution_count": null,
      "metadata": {
        "id": "xvSbRaYqypTq"
      },
      "outputs": [],
      "source": [
        "import numpy as np\n",
        "import matplotlib.pyplot as plt\n",
        "\n",
        "plt.styleuse.use('seaborn-poster')\n",
        "%matplotlib inline\n",
        "\n",
        "f = lambda t, s: np.exp(-t)\n",
        "h = 0.1\n",
        "t = np.arange(0, 1 + h, h)\n",
        "s0 = -1"
      ]
    }
  ]
}