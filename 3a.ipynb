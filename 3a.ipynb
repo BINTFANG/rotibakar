{
  "nbformat": 4,
  "nbformat_minor": 0,
  "metadata": {
    "colab": {
      "provenance": []
    },
    "kernelspec": {
      "name": "python3",
      "display_name": "Python 3"
    },
    "language_info": {
      "name": "python"
    }
  },
  "cells": [
    {
      "cell_type": "code",
      "execution_count": 2,
      "metadata": {
        "colab": {
          "base_uri": "https://localhost:8080/"
        },
        "id": "hf_eP45A708b",
        "outputId": "7eb7365a-dfc8-4539-963c-e8efc69811cd"
      },
      "outputs": [
        {
          "output_type": "stream",
          "name": "stdout",
          "text": [
            "Riemann Integral approximation:  221.2322711083824\n",
            "Trapezoid Rule approximation:  249.88714955383293\n",
            "Simpson's Rule approximation:  248.94406492017316\n"
          ]
        }
      ],
      "source": [
        "import numpy as np\n",
        "\n",
        "def f(x):\n",
        "    return x**3 - 0.3*x**2 - 8.56*x + 8.448\n",
        "\n",
        "a = 0\n",
        "b = 2 * np.pi\n",
        "n = 20\n",
        "\n",
        "h = (b - a) / n\n",
        "x = np.linspace(a, b, n + 1)\n",
        "\n",
        "riemann_sum = sum(f(x[:-1])) * h\n",
        "trapezoid_sum = (h / 2) * (f(x[0]) + 2 * sum(f(x[1:-1])) + f(x[-1]))\n",
        "simpson_sum = (h / 3) * (f(x[0]) + 4 * sum(f(x[1:-1:2])) + 2 * sum(f(x[2:-1:2])) + f(x[-1]))\n",
        "\n",
        "print(\"Riemann Integral approximation: \", riemann_sum)\n",
        "print(\"Trapezoid Rule approximation: \", trapezoid_sum)\n",
        "print(\"Simpson's Rule approximation: \", simpson_sum)\n"
      ]
    }
  ]
}