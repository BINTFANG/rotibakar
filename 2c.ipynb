{
  "nbformat": 4,
  "nbformat_minor": 0,
  "metadata": {
    "colab": {
      "provenance": []
    },
    "kernelspec": {
      "name": "python3",
      "display_name": "Python 3"
    },
    "language_info": {
      "name": "python"
    }
  },
  "cells": [
    {
      "cell_type": "code",
      "execution_count": 1,
      "metadata": {
        "colab": {
          "base_uri": "https://localhost:8080/"
        },
        "id": "Da1ZgwoQYg-2",
        "outputId": "edb5530b-afda-4d16-8de2-e70cb40cbd17"
      },
      "outputs": [
        {
          "output_type": "stream",
          "name": "stdout",
          "text": [
            "Approximation:  0.707429206709773\n",
            "Truncation error bound:  0.00311299321274090\n"
          ]
        }
      ],
      "source": [
        "import sympy as sp\n",
        "\n",
        "x = sp.symbols('x')\n",
        "\n",
        "cos_taylor = sp.series(sp.cos(x), x, 0, 5).removeO()\n",
        "\n",
        "approximation = cos_taylor.subs(x, sp.pi/4)\n",
        "\n",
        "x_val = sp.pi/4\n",
        "M = 1\n",
        "R = sp.Rational(5, 4)\n",
        "truncation_error = R * (x_val - 0)**5 / sp.factorial(5) * M\n",
        "\n",
        "print(\"Approximation: \", approximation.evalf())\n",
        "print(\"Truncation error bound: \", truncation_error.evalf())\n"
      ]
    }
  ]
}