{
  "cells": [
    {
      "cell_type": "markdown",
      "metadata": {
        "id": "view-in-github",
        "colab_type": "text"
      },
      "source": [
        "<a href=\"https://colab.research.google.com/github/BINTFANG/rotibakar/blob/main/Eigen%20Value%20%26%20Eigen%20Vector.ipynb\" target=\"_parent\"><img src=\"https://colab.research.google.com/assets/colab-badge.svg\" alt=\"Open In Colab\"/></a>"
      ]
    },
    {
      "cell_type": "code",
      "source": [
        "import numpy as np\n",
        "def normalize(x):\n",
        "  fac = abs(x).max()\n",
        "  x_n = x / x.max()\n",
        "  return fac, x_n\n",
        "\n",
        "x = np.array([1, 1])\n",
        "a = np.array([[0, 2],\n",
        "[2, 3]])\n",
        "\n",
        "for i in range(8):\n",
        "  x = np.dot(a, x)\n",
        "  lambda_1, x = normalize(x)\n",
        "\n",
        "print('Eigenvalue:', lambda_1)\n",
        "print('Eigenvector:', x)"
      ],
      "metadata": {
        "id": "ySKOCzoicQNi",
        "outputId": "8190eedc-3f0e-4203-dd71-d82acfdc940c",
        "colab": {
          "base_uri": "https://localhost:8080/"
        }
      },
      "execution_count": 15,
      "outputs": [
        {
          "output_type": "stream",
          "name": "stdout",
          "text": [
            "Eigenvalue: 3.999949137887188\n",
            "Eigenvector: [0.50000636 1.        ]\n"
          ]
        }
      ]
    },
    {
      "cell_type": "code",
      "source": [
        "from numpy.linalg import inv\n",
        "a_inv = inv(a)\n",
        "\n",
        "for i in range(8):\n",
        " x = np.dot(a_inv, x)\n",
        " lambda_1, x = normalize(x)\n",
        "\n",
        "print('Eigenvalue:', lambda_1)\n",
        "print('Eigenvector:', x)"
      ],
      "metadata": {
        "id": "Zb5qNvH1cgKG",
        "outputId": "de5cda62-9457-4bcf-e365-09a5eaa033ff",
        "colab": {
          "base_uri": "https://localhost:8080/"
        }
      },
      "execution_count": 16,
      "outputs": [
        {
          "output_type": "stream",
          "name": "stdout",
          "text": [
            "Eigenvalue: 0.20000000000024853\n",
            "Eigenvector: [1. 1.]\n"
          ]
        }
      ]
    },
    {
      "cell_type": "code",
      "source": [
        "import numpy as np\n",
        "from numpy.linalg import eig\n",
        "a = np.array([[0, 2],\n",
        "[2, 3]])\n",
        "\n",
        "w,v=eig(a)\n",
        "print('E-value:', w)\n",
        "print('E-vector', v)"
      ],
      "metadata": {
        "id": "8FT1ZkR3cmPv",
        "outputId": "2cc4694d-b25f-459c-b40e-ee4f72e44ed6",
        "colab": {
          "base_uri": "https://localhost:8080/"
        }
      },
      "execution_count": 17,
      "outputs": [
        {
          "output_type": "stream",
          "name": "stdout",
          "text": [
            "E-value: [-1.  4.]\n",
            "E-vector [[-0.89442719 -0.4472136 ]\n",
            " [ 0.4472136  -0.89442719]]\n"
          ]
        }
      ]
    },
    {
      "cell_type": "code",
      "source": [
        "import numpy as np\n",
        "from numpy.linalg import eig\n",
        "a = np.array([[2, 2, 4],\n",
        "[1, 3, 5],\n",
        "[2, 3, 4]])\n",
        "\n",
        "w,v=eig(a)\n",
        "print('E-value:', w)\n",
        "print('E-vector'\n",
        ", v)"
      ],
      "metadata": {
        "id": "jEqT9sTocvdN",
        "outputId": "6363ec56-da58-4dd3-e9a6-5245e9cd9d14",
        "colab": {
          "base_uri": "https://localhost:8080/"
        }
      },
      "execution_count": 18,
      "outputs": [
        {
          "output_type": "stream",
          "name": "stdout",
          "text": [
            "E-value: [ 8.80916362  0.92620912 -0.73537273]\n",
            "E-vector [[-0.52799324 -0.77557092 -0.36272811]\n",
            " [-0.604391    0.62277013 -0.7103262 ]\n",
            " [-0.59660259 -0.10318482  0.60321224]]\n"
          ]
        }
      ]
    }
  ],
  "metadata": {
    "colab": {
      "name": "Welcome To Colaboratory",
      "toc_visible": true,
      "provenance": [],
      "include_colab_link": true
    },
    "kernelspec": {
      "display_name": "Python 3",
      "name": "python3"
    }
  },
  "nbformat": 4,
  "nbformat_minor": 0
}