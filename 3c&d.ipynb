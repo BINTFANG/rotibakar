{
  "nbformat": 4,
  "nbformat_minor": 0,
  "metadata": {
    "colab": {
      "provenance": []
    },
    "kernelspec": {
      "name": "python3",
      "display_name": "Python 3"
    },
    "language_info": {
      "name": "python"
    }
  },
  "cells": [
    {
      "cell_type": "code",
      "execution_count": 5,
      "metadata": {
        "colab": {
          "base_uri": "https://localhost:8080/"
        },
        "id": "CZ4dGp3KtHWs",
        "outputId": "acd14be2-9e57-4a5a-9009-46d6640e10ca"
      },
      "outputs": [
        {
          "output_type": "stream",
          "name": "stdout",
          "text": [
            "f'(0) = -8.405855263157896\n",
            "f''(0) = -1.6421052631578998\n",
            "error di f'(0): 10.325855263157896\n",
            "error di f''(0): 23.5661052631579\n"
          ]
        }
      ],
      "source": [
        "import numpy as np\n",
        "from scipy.interpolate import lagrange\n",
        "\n",
        "x_data = [-1.1, -0.3, 0.8, 1.9]\n",
        "y_data = [15.180, 10.962, 1.920, -2.040]\n",
        "\n",
        "polynomial = lagrange(x_data, y_data)\n",
        "\n",
        "f_aksen = np.polyder(polynomial)\n",
        "f_aksen_0 = np.polyval(f_aksen, 0)\n",
        "\n",
        "f_double_aksen = np.polyder(f_aksen)\n",
        "f_double_aksen_0 = np.polyval(f_double_aksen, 0)\n",
        "\n",
        "f_0 = np.polyval(polynomial, 0)\n",
        "\n",
        "actual_f_aksen_0 = np.polyval(np.polyder(np.poly1d([15.180, 10.962, 1.920, -2.040])), 0)\n",
        "actual_f_double_aksen_0 = np.polyval(np.polyder(np.polyder(np.poly1d([15.180, 10.962, 1.920, -2.040]))), 0)\n",
        "\n",
        "error_f_aksen = abs(actual_f_aksen_0 - f_aksen_0)\n",
        "error_f_double_aksen = abs(actual_f_double_aksen_0 - f_double_aksen_0)\n",
        "\n",
        "print(\"f'(0) =\", f_aksen_0)\n",
        "print(\"f''(0) =\", f_double_aksen_0)\n",
        "print(\"error di f'(0):\", error_f_aksen)\n",
        "print(\"error di f''(0):\", error_f_double_aksen)\n"
      ]
    }
  ]
}