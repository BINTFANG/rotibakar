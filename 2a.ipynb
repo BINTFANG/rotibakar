{
  "nbformat": 4,
  "nbformat_minor": 0,
  "metadata": {
    "colab": {
      "provenance": []
    },
    "kernelspec": {
      "name": "python3",
      "display_name": "Python 3"
    },
    "language_info": {
      "name": "python"
    }
  },
  "cells": [
    {
      "cell_type": "code",
      "execution_count": 2,
      "metadata": {
        "colab": {
          "base_uri": "https://localhost:8080/"
        },
        "id": "BffItz-G5FRg",
        "outputId": "46c75a3c-dc5f-475f-da07-4106bfd8cb39"
      },
      "outputs": [
        {
          "output_type": "stream",
          "name": "stdout",
          "text": [
            "sin(x) =  -x**3/6 + x\n",
            "cos(x) =  x**4/24 - x**2/2 + 1\n",
            "sin(x)cos(x) =  -2*x**3/3 + x\n"
          ]
        }
      ],
      "source": [
        "import sympy as sp\n",
        "\n",
        "x = sp.symbols('x')\n",
        "\n",
        "sin_taylor = sp.series(sp.sin(x), x, 0, 5).removeO()\n",
        "cos_taylor = sp.series(sp.cos(x), x, 0, 5).removeO()\n",
        "sin_cos_taylor = sp.series(sp.sin(x) * sp.cos(x), x, 0, 5).removeO()\n",
        "\n",
        "print(\"sin(x) = \", sin_taylor)\n",
        "print(\"cos(x) = \", cos_taylor)\n",
        "print(\"sin(x)cos(x) = \", sin_cos_taylor)\n"
      ]
    }
  ]
}